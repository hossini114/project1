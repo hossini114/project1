{
  "cells": [
    {
      "cell_type": "code",
      "execution_count": 31,
      "metadata": {
        "id": "l7htb-QqicIk"
      },
      "outputs": [],
      "source": [
        "import pandas as pd \n",
        "import numpy as np\n",
        "import matplotlib.pyplot as plt\n",
        "import seaborn as sb"
      ]
    },
    {
      "cell_type": "code",
      "execution_count": 32,
      "metadata": {
        "id": "SWG8DflQkOf-"
      },
      "outputs": [],
      "source": [
        "data=pd.read_csv(\"/content/drive/MyDrive/Articate/possum.csv\")"
      ]
    },
    {
      "cell_type": "code",
      "execution_count": 33,
      "metadata": {
        "colab": {
          "base_uri": "https://localhost:8080/",
          "height": 206
        },
        "id": "i10YEyMy5huE",
        "outputId": "9c9cb064-9d26-44b5-8a19-f8fcb44f9f0e"
      },
      "outputs": [
        {
          "output_type": "execute_result",
          "data": {
            "text/plain": [
              "   case  site  Pop sex  age  hdlngth  skullw  totlngth  taill  footlgth  \\\n",
              "0     1     1  Vic   m  8.0     94.1    60.4      89.0   36.0      74.5   \n",
              "1     2     1  Vic   f  6.0     92.5    57.6      91.5   36.5      72.5   \n",
              "2     3     1  Vic   f  6.0     94.0    60.0      95.5   39.0      75.4   \n",
              "3     4     1  Vic   f  6.0     93.2    57.1      92.0   38.0      76.1   \n",
              "4     5     1  Vic   f  2.0     91.5    56.3      85.5   36.0      71.0   \n",
              "\n",
              "   earconch   eye  chest  belly  \n",
              "0      54.5  15.2   28.0   36.0  \n",
              "1      51.2  16.0   28.5   33.0  \n",
              "2      51.9  15.5   30.0   34.0  \n",
              "3      52.2  15.2   28.0   34.0  \n",
              "4      53.2  15.1   28.5   33.0  "
            ],
            "text/html": [
              "\n",
              "  <div id=\"df-50eccdf4-037d-40f9-a47d-35a9e9788e51\">\n",
              "    <div class=\"colab-df-container\">\n",
              "      <div>\n",
              "<style scoped>\n",
              "    .dataframe tbody tr th:only-of-type {\n",
              "        vertical-align: middle;\n",
              "    }\n",
              "\n",
              "    .dataframe tbody tr th {\n",
              "        vertical-align: top;\n",
              "    }\n",
              "\n",
              "    .dataframe thead th {\n",
              "        text-align: right;\n",
              "    }\n",
              "</style>\n",
              "<table border=\"1\" class=\"dataframe\">\n",
              "  <thead>\n",
              "    <tr style=\"text-align: right;\">\n",
              "      <th></th>\n",
              "      <th>case</th>\n",
              "      <th>site</th>\n",
              "      <th>Pop</th>\n",
              "      <th>sex</th>\n",
              "      <th>age</th>\n",
              "      <th>hdlngth</th>\n",
              "      <th>skullw</th>\n",
              "      <th>totlngth</th>\n",
              "      <th>taill</th>\n",
              "      <th>footlgth</th>\n",
              "      <th>earconch</th>\n",
              "      <th>eye</th>\n",
              "      <th>chest</th>\n",
              "      <th>belly</th>\n",
              "    </tr>\n",
              "  </thead>\n",
              "  <tbody>\n",
              "    <tr>\n",
              "      <th>0</th>\n",
              "      <td>1</td>\n",
              "      <td>1</td>\n",
              "      <td>Vic</td>\n",
              "      <td>m</td>\n",
              "      <td>8.0</td>\n",
              "      <td>94.1</td>\n",
              "      <td>60.4</td>\n",
              "      <td>89.0</td>\n",
              "      <td>36.0</td>\n",
              "      <td>74.5</td>\n",
              "      <td>54.5</td>\n",
              "      <td>15.2</td>\n",
              "      <td>28.0</td>\n",
              "      <td>36.0</td>\n",
              "    </tr>\n",
              "    <tr>\n",
              "      <th>1</th>\n",
              "      <td>2</td>\n",
              "      <td>1</td>\n",
              "      <td>Vic</td>\n",
              "      <td>f</td>\n",
              "      <td>6.0</td>\n",
              "      <td>92.5</td>\n",
              "      <td>57.6</td>\n",
              "      <td>91.5</td>\n",
              "      <td>36.5</td>\n",
              "      <td>72.5</td>\n",
              "      <td>51.2</td>\n",
              "      <td>16.0</td>\n",
              "      <td>28.5</td>\n",
              "      <td>33.0</td>\n",
              "    </tr>\n",
              "    <tr>\n",
              "      <th>2</th>\n",
              "      <td>3</td>\n",
              "      <td>1</td>\n",
              "      <td>Vic</td>\n",
              "      <td>f</td>\n",
              "      <td>6.0</td>\n",
              "      <td>94.0</td>\n",
              "      <td>60.0</td>\n",
              "      <td>95.5</td>\n",
              "      <td>39.0</td>\n",
              "      <td>75.4</td>\n",
              "      <td>51.9</td>\n",
              "      <td>15.5</td>\n",
              "      <td>30.0</td>\n",
              "      <td>34.0</td>\n",
              "    </tr>\n",
              "    <tr>\n",
              "      <th>3</th>\n",
              "      <td>4</td>\n",
              "      <td>1</td>\n",
              "      <td>Vic</td>\n",
              "      <td>f</td>\n",
              "      <td>6.0</td>\n",
              "      <td>93.2</td>\n",
              "      <td>57.1</td>\n",
              "      <td>92.0</td>\n",
              "      <td>38.0</td>\n",
              "      <td>76.1</td>\n",
              "      <td>52.2</td>\n",
              "      <td>15.2</td>\n",
              "      <td>28.0</td>\n",
              "      <td>34.0</td>\n",
              "    </tr>\n",
              "    <tr>\n",
              "      <th>4</th>\n",
              "      <td>5</td>\n",
              "      <td>1</td>\n",
              "      <td>Vic</td>\n",
              "      <td>f</td>\n",
              "      <td>2.0</td>\n",
              "      <td>91.5</td>\n",
              "      <td>56.3</td>\n",
              "      <td>85.5</td>\n",
              "      <td>36.0</td>\n",
              "      <td>71.0</td>\n",
              "      <td>53.2</td>\n",
              "      <td>15.1</td>\n",
              "      <td>28.5</td>\n",
              "      <td>33.0</td>\n",
              "    </tr>\n",
              "  </tbody>\n",
              "</table>\n",
              "</div>\n",
              "      <button class=\"colab-df-convert\" onclick=\"convertToInteractive('df-50eccdf4-037d-40f9-a47d-35a9e9788e51')\"\n",
              "              title=\"Convert this dataframe to an interactive table.\"\n",
              "              style=\"display:none;\">\n",
              "        \n",
              "  <svg xmlns=\"http://www.w3.org/2000/svg\" height=\"24px\"viewBox=\"0 0 24 24\"\n",
              "       width=\"24px\">\n",
              "    <path d=\"M0 0h24v24H0V0z\" fill=\"none\"/>\n",
              "    <path d=\"M18.56 5.44l.94 2.06.94-2.06 2.06-.94-2.06-.94-.94-2.06-.94 2.06-2.06.94zm-11 1L8.5 8.5l.94-2.06 2.06-.94-2.06-.94L8.5 2.5l-.94 2.06-2.06.94zm10 10l.94 2.06.94-2.06 2.06-.94-2.06-.94-.94-2.06-.94 2.06-2.06.94z\"/><path d=\"M17.41 7.96l-1.37-1.37c-.4-.4-.92-.59-1.43-.59-.52 0-1.04.2-1.43.59L10.3 9.45l-7.72 7.72c-.78.78-.78 2.05 0 2.83L4 21.41c.39.39.9.59 1.41.59.51 0 1.02-.2 1.41-.59l7.78-7.78 2.81-2.81c.8-.78.8-2.07 0-2.86zM5.41 20L4 18.59l7.72-7.72 1.47 1.35L5.41 20z\"/>\n",
              "  </svg>\n",
              "      </button>\n",
              "      \n",
              "  <style>\n",
              "    .colab-df-container {\n",
              "      display:flex;\n",
              "      flex-wrap:wrap;\n",
              "      gap: 12px;\n",
              "    }\n",
              "\n",
              "    .colab-df-convert {\n",
              "      background-color: #E8F0FE;\n",
              "      border: none;\n",
              "      border-radius: 50%;\n",
              "      cursor: pointer;\n",
              "      display: none;\n",
              "      fill: #1967D2;\n",
              "      height: 32px;\n",
              "      padding: 0 0 0 0;\n",
              "      width: 32px;\n",
              "    }\n",
              "\n",
              "    .colab-df-convert:hover {\n",
              "      background-color: #E2EBFA;\n",
              "      box-shadow: 0px 1px 2px rgba(60, 64, 67, 0.3), 0px 1px 3px 1px rgba(60, 64, 67, 0.15);\n",
              "      fill: #174EA6;\n",
              "    }\n",
              "\n",
              "    [theme=dark] .colab-df-convert {\n",
              "      background-color: #3B4455;\n",
              "      fill: #D2E3FC;\n",
              "    }\n",
              "\n",
              "    [theme=dark] .colab-df-convert:hover {\n",
              "      background-color: #434B5C;\n",
              "      box-shadow: 0px 1px 3px 1px rgba(0, 0, 0, 0.15);\n",
              "      filter: drop-shadow(0px 1px 2px rgba(0, 0, 0, 0.3));\n",
              "      fill: #FFFFFF;\n",
              "    }\n",
              "  </style>\n",
              "\n",
              "      <script>\n",
              "        const buttonEl =\n",
              "          document.querySelector('#df-50eccdf4-037d-40f9-a47d-35a9e9788e51 button.colab-df-convert');\n",
              "        buttonEl.style.display =\n",
              "          google.colab.kernel.accessAllowed ? 'block' : 'none';\n",
              "\n",
              "        async function convertToInteractive(key) {\n",
              "          const element = document.querySelector('#df-50eccdf4-037d-40f9-a47d-35a9e9788e51');\n",
              "          const dataTable =\n",
              "            await google.colab.kernel.invokeFunction('convertToInteractive',\n",
              "                                                     [key], {});\n",
              "          if (!dataTable) return;\n",
              "\n",
              "          const docLinkHtml = 'Like what you see? Visit the ' +\n",
              "            '<a target=\"_blank\" href=https://colab.research.google.com/notebooks/data_table.ipynb>data table notebook</a>'\n",
              "            + ' to learn more about interactive tables.';\n",
              "          element.innerHTML = '';\n",
              "          dataTable['output_type'] = 'display_data';\n",
              "          await google.colab.output.renderOutput(dataTable, element);\n",
              "          const docLink = document.createElement('div');\n",
              "          docLink.innerHTML = docLinkHtml;\n",
              "          element.appendChild(docLink);\n",
              "        }\n",
              "      </script>\n",
              "    </div>\n",
              "  </div>\n",
              "  "
            ]
          },
          "metadata": {},
          "execution_count": 33
        }
      ],
      "source": [
        "data.head()"
      ]
    },
    {
      "cell_type": "code",
      "execution_count": 34,
      "metadata": {
        "colab": {
          "base_uri": "https://localhost:8080/"
        },
        "id": "T47i4nBgmcvq",
        "outputId": "a2dd439e-cb35-4fdd-81d6-2eddc2fa41e8"
      },
      "outputs": [
        {
          "output_type": "stream",
          "name": "stdout",
          "text": [
            "(104, 14)\n"
          ]
        }
      ],
      "source": [
        "data_arr=data.values\n",
        "\n",
        "print(data_arr.shape)"
      ]
    },
    {
      "cell_type": "code",
      "execution_count": 35,
      "metadata": {
        "colab": {
          "base_uri": "https://localhost:8080/",
          "height": 557
        },
        "id": "EUKsC1POoG3a",
        "outputId": "5cce2234-9694-4fdf-b264-79728addd0ad"
      },
      "outputs": [
        {
          "output_type": "stream",
          "name": "stderr",
          "text": [
            "<ipython-input-35-0034947e395a>:3: FutureWarning: The default value of numeric_only in DataFrame.corr is deprecated. In a future version, it will default to False. Select only valid columns or specify the value of numeric_only to silence this warning.\n",
            "  correlation=df.corr()\n"
          ]
        },
        {
          "output_type": "execute_result",
          "data": {
            "text/plain": [
              "<Axes: >"
            ]
          },
          "metadata": {},
          "execution_count": 35
        },
        {
          "output_type": "display_data",
          "data": {
            "text/plain": [
              "<Figure size 640x480 with 2 Axes>"
            ],
            "image/png": "[encoded data removed]"
          },
          "metadata": {}
        }
      ],
      "source": [
        "df=pd.read_csv(\"/content/drive/MyDrive/tr1/possum.csv\")\n",
        "df.describe()\n",
        "correlation=df.corr()\n",
        "sb.heatmap(correlation)"
      ]
    },
    {
      "cell_type": "code",
      "execution_count": 36,
      "metadata": {
        "id": "IxIowAxkHaOm"
      },
      "outputs": [],
      "source": [
        "varlist=['Pop','sex']"
      ]
    },
    {
      "cell_type": "code",
      "execution_count": 37,
      "metadata": {
        "id": "vMvnOidjJpFW"
      },
      "outputs": [],
      "source": [
        "def binary_map(x):\n",
        "  return x.map({'Vic':1 , \"other\":0 ,'m':1 ,'f':0})"
      ]
    },
    {
      "cell_type": "code",
      "execution_count": 38,
      "metadata": {
        "id": "_0kqUeVMKF67"
      },
      "outputs": [],
      "source": [
        "df[varlist]=df[varlist].apply(binary_map)"
      ]
    },
    {
      "cell_type": "code",
      "execution_count": 39,
      "metadata": {
        "colab": {
          "base_uri": "https://localhost:8080/",
          "height": 423
        },
        "id": "Aurj2f1KKmRF",
        "outputId": "1ec02404-ea04-4d70-e5e5-3f295209a530"
      },
      "outputs": [
        {
          "output_type": "execute_result",
          "data": {
            "text/plain": [
              "    case  site  Pop  sex  age  hdlngth  skullw  totlngth  taill  footlgth  \\\n",
              "0      1     1    1    1    8     94.1    60.4      89.0   36.0      74.5   \n",
              "1      2     1    1    0    6     92.5    57.6      91.5   36.5      72.5   \n",
              "2      3     1    1    0    6     94.0    60.0      95.5   39.0      75.4   \n",
              "3      4     1    1    0    6     93.2    57.1      92.0   38.0      76.1   \n",
              "4      5     1    1    0    2     91.5    56.3      85.5   36.0      71.0   \n",
              "..   ...   ...  ...  ...  ...      ...     ...       ...    ...       ...   \n",
              "95    96     7    0    1    4     94.8    55.7      83.0   38.0      66.5   \n",
              "96    97     7    0    1    3     91.0    53.1      86.0   38.0      63.8   \n",
              "97    98     7    0    1    5     93.2    68.6      84.0   35.0      65.6   \n",
              "98    99     7    0    0    3     93.3    56.2      86.5   38.5      64.8   \n",
              "99   100     7    0    1    1     89.5    56.0      81.5   36.5      66.0   \n",
              "\n",
              "    earconch   eye  chest  belly  \n",
              "0       54.5  15.2   28.0   36.0  \n",
              "1       51.2  16.0   28.5   33.0  \n",
              "2       51.9  15.5   30.0   34.0  \n",
              "3       52.2  15.2   28.0   34.0  \n",
              "4       53.2  15.1   28.5   33.0  \n",
              "..       ...   ...    ...    ...  \n",
              "95      47.7  14.0   25.0   33.0  \n",
              "96      46.0  14.5   25.0   31.5  \n",
              "97      44.3  14.5   28.5   32.0  \n",
              "98      43.8  14.0   28.0   35.0  \n",
              "99      46.8  14.8   23.0   27.0  \n",
              "\n",
              "[100 rows x 14 columns]"
            ],
            "text/html": [
              "\n",
              "  <div id=\"df-d77cfaf3-eb9a-48ee-8223-39b0276200cf\">\n",
              "    <div class=\"colab-df-container\">\n",
              "      <div>\n",
              "<style scoped>\n",
              "    .dataframe tbody tr th:only-of-type {\n",
              "        vertical-align: middle;\n",
              "    }\n",
              "\n",
              "    .dataframe tbody tr th {\n",
              "        vertical-align: top;\n",
              "    }\n",
              "\n",
              "    .dataframe thead th {\n",
              "        text-align: right;\n",
              "    }\n",
              "</style>\n",
              "<table border=\"1\" class=\"dataframe\">\n",
              "  <thead>\n",
              "    <tr style=\"text-align: right;\">\n",
              "      <th></th>\n",
              "      <th>case</th>\n",
              "      <th>site</th>\n",
              "      <th>Pop</th>\n",
              "      <th>sex</th>\n",
              "      <th>age</th>\n",
              "      <th>hdlngth</th>\n",
              "      <th>skullw</th>\n",
              "      <th>totlngth</th>\n",
              "      <th>taill</th>\n",
              "      <th>footlgth</th>\n",
              "      <th>earconch</th>\n",
              "      <th>eye</th>\n",
              "      <th>chest</th>\n",
              "      <th>belly</th>\n",
              "    </tr>\n",
              "  </thead>\n",
              "  <tbody>\n",
              "    <tr>\n",
              "      <th>0</th>\n",
              "      <td>1</td>\n",
              "      <td>1</td>\n",
              "      <td>1</td>\n",
              "      <td>1</td>\n",
              "      <td>8</td>\n",
              "      <td>94.1</td>\n",
              "      <td>60.4</td>\n",
              "      <td>89.0</td>\n",
              "      <td>36.0</td>\n",
              "      <td>74.5</td>\n",
              "      <td>54.5</td>\n",
              "      <td>15.2</td>\n",
              "      <td>28.0</td>\n",
              "      <td>36.0</td>\n",
              "    </tr>\n",
              "    <tr>\n",
              "      <th>1</th>\n",
              "      <td>2</td>\n",
              "      <td>1</td>\n",
              "      <td>1</td>\n",
              "      <td>0</td>\n",
              "      <td>6</td>\n",
              "      <td>92.5</td>\n",
              "      <td>57.6</td>\n",
              "      <td>91.5</td>\n",
              "      <td>36.5</td>\n",
              "      <td>72.5</td>\n",
              "      <td>51.2</td>\n",
              "      <td>16.0</td>\n",
              "      <td>28.5</td>\n",
              "      <td>33.0</td>\n",
              "    </tr>\n",
              "    <tr>\n",
              "      <th>2</th>\n",
              "      <td>3</td>\n",
              "      <td>1</td>\n",
              "      <td>1</td>\n",
              "      <td>0</td>\n",
              "      <td>6</td>\n",
              "      <td>94.0</td>\n",
              "      <td>60.0</td>\n",
              "      <td>95.5</td>\n",
              "      <td>39.0</td>\n",
              "      <td>75.4</td>\n",
              "      <td>51.9</td>\n",
              "      <td>15.5</td>\n",
              "      <td>30.0</td>\n",
              "      <td>34.0</td>\n",
              "    </tr>\n",
              "    <tr>\n",
              "      <th>3</th>\n",
              "      <td>4</td>\n",
              "      <td>1</td>\n",
              "      <td>1</td>\n",
              "      <td>0</td>\n",
              "      <td>6</td>\n",
              "      <td>93.2</td>\n",
              "      <td>57.1</td>\n",
              "      <td>92.0</td>\n",
              "      <td>38.0</td>\n",
              "      <td>76.1</td>\n",
              "      <td>52.2</td>\n",
              "      <td>15.2</td>\n",
              "      <td>28.0</td>\n",
              "      <td>34.0</td>\n",
              "    </tr>\n",
              "    <tr>\n",
              "      <th>4</th>\n",
              "      <td>5</td>\n",
              "      <td>1</td>\n",
              "      <td>1</td>\n",
              "      <td>0</td>\n",
              "      <td>2</td>\n",
              "      <td>91.5</td>\n",
              "      <td>56.3</td>\n",
              "      <td>85.5</td>\n",
              "      <td>36.0</td>\n",
              "      <td>71.0</td>\n",
              "      <td>53.2</td>\n",
              "      <td>15.1</td>\n",
              "      <td>28.5</td>\n",
              "      <td>33.0</td>\n",
              "    </tr>\n",
              "    <tr>\n",
              "      <th>...</th>\n",
              "      <td>...</td>\n",
              "      <td>...</td>\n",
              "      <td>...</td>\n",
              "      <td>...</td>\n",
              "      <td>...</td>\n",
              "      <td>...</td>\n",
              "      <td>...</td>\n",
              "      <td>...</td>\n",
              "      <td>...</td>\n",
              "      <td>...</td>\n",
              "      <td>...</td>\n",
              "      <td>...</td>\n",
              "      <td>...</td>\n",
              "      <td>...</td>\n",
              "    </tr>\n",
              "    <tr>\n",
              "      <th>95</th>\n",
              "      <td>96</td>\n",
              "      <td>7</td>\n",
              "      <td>0</td>\n",
              "      <td>1</td>\n",
              "      <td>4</td>\n",
              "      <td>94.8</td>\n",
              "      <td>55.7</td>\n",
              "      <td>83.0</td>\n",
              "      <td>38.0</td>\n",
              "      <td>66.5</td>\n",
              "      <td>47.7</td>\n",
              "      <td>14.0</td>\n",
              "      <td>25.0</td>\n",
              "      <td>33.0</td>\n",
              "    </tr>\n",
              "    <tr>\n",
              "      <th>96</th>\n",
              "      <td>97</td>\n",
              "      <td>7</td>\n",
              "      <td>0</td>\n",
              "      <td>1</td>\n",
              "      <td>3</td>\n",
              "      <td>91.0</td>\n",
              "      <td>53.1</td>\n",
              "      <td>86.0</td>\n",
              "      <td>38.0</td>\n",
              "      <td>63.8</td>\n",
              "      <td>46.0</td>\n",
              "      <td>14.5</td>\n",
              "      <td>25.0</td>\n",
              "      <td>31.5</td>\n",
              "    </tr>\n",
              "    <tr>\n",
              "      <th>97</th>\n",
              "      <td>98</td>\n",
              "      <td>7</td>\n",
              "      <td>0</td>\n",
              "      <td>1</td>\n",
              "      <td>5</td>\n",
              "      <td>93.2</td>\n",
              "      <td>68.6</td>\n",
              "      <td>84.0</td>\n",
              "      <td>35.0</td>\n",
              "      <td>65.6</td>\n",
              "      <td>44.3</td>\n",
              "      <td>14.5</td>\n",
              "      <td>28.5</td>\n",
              "      <td>32.0</td>\n",
              "    </tr>\n",
              "    <tr>\n",
              "      <th>98</th>\n",
              "      <td>99</td>\n",
              "      <td>7</td>\n",
              "      <td>0</td>\n",
              "      <td>0</td>\n",
              "      <td>3</td>\n",
              "      <td>93.3</td>\n",
              "      <td>56.2</td>\n",
              "      <td>86.5</td>\n",
              "      <td>38.5</td>\n",
              "      <td>64.8</td>\n",
              "      <td>43.8</td>\n",
              "      <td>14.0</td>\n",
              "      <td>28.0</td>\n",
              "      <td>35.0</td>\n",
              "    </tr>\n",
              "    <tr>\n",
              "      <th>99</th>\n",
              "      <td>100</td>\n",
              "      <td>7</td>\n",
              "      <td>0</td>\n",
              "      <td>1</td>\n",
              "      <td>1</td>\n",
              "      <td>89.5</td>\n",
              "      <td>56.0</td>\n",
              "      <td>81.5</td>\n",
              "      <td>36.5</td>\n",
              "      <td>66.0</td>\n",
              "      <td>46.8</td>\n",
              "      <td>14.8</td>\n",
              "      <td>23.0</td>\n",
              "      <td>27.0</td>\n",
              "    </tr>\n",
              "  </tbody>\n",
              "</table>\n",
              "<p>100 rows × 14 columns</p>\n",
              "</div>\n",
              "      <button class=\"colab-df-convert\" onclick=\"convertToInteractive('df-d77cfaf3-eb9a-48ee-8223-39b0276200cf')\"\n",
              "              title=\"Convert this dataframe to an interactive table.\"\n",
              "              style=\"display:none;\">\n",
              "        \n",
              "  <svg xmlns=\"http://www.w3.org/2000/svg\" height=\"24px\"viewBox=\"0 0 24 24\"\n",
              "       width=\"24px\">\n",
              "    <path d=\"M0 0h24v24H0V0z\" fill=\"none\"/>\n",
              "    <path d=\"M18.56 5.44l.94 2.06.94-2.06 2.06-.94-2.06-.94-.94-2.06-.94 2.06-2.06.94zm-11 1L8.5 8.5l.94-2.06 2.06-.94-2.06-.94L8.5 2.5l-.94 2.06-2.06.94zm10 10l.94 2.06.94-2.06 2.06-.94-2.06-.94-.94-2.06-.94 2.06-2.06.94z\"/><path d=\"M17.41 7.96l-1.37-1.37c-.4-.4-.92-.59-1.43-.59-.52 0-1.04.2-1.43.59L10.3 9.45l-7.72 7.72c-.78.78-.78 2.05 0 2.83L4 21.41c.39.39.9.59 1.41.59.51 0 1.02-.2 1.41-.59l7.78-7.78 2.81-2.81c.8-.78.8-2.07 0-2.86zM5.41 20L4 18.59l7.72-7.72 1.47 1.35L5.41 20z\"/>\n",
              "  </svg>\n",
              "      </button>\n",
              "      \n",
              "  <style>\n",
              "    .colab-df-container {\n",
              "      display:flex;\n",
              "      flex-wrap:wrap;\n",
              "      gap: 12px;\n",
              "    }\n",
              "\n",
              "    .colab-df-convert {\n",
              "      background-color: #E8F0FE;\n",
              "      border: none;\n",
              "      border-radius: 50%;\n",
              "      cursor: pointer;\n",
              "      display: none;\n",
              "      fill: #1967D2;\n",
              "      height: 32px;\n",
              "      padding: 0 0 0 0;\n",
              "      width: 32px;\n",
              "    }\n",
              "\n",
              "    .colab-df-convert:hover {\n",
              "      background-color: #E2EBFA;\n",
              "      box-shadow: 0px 1px 2px rgba(60, 64, 67, 0.3), 0px 1px 3px 1px rgba(60, 64, 67, 0.15);\n",
              "      fill: #174EA6;\n",
              "    }\n",
              "\n",
              "    [theme=dark] .colab-df-convert {\n",
              "      background-color: #3B4455;\n",
              "      fill: #D2E3FC;\n",
              "    }\n",
              "\n",
              "    [theme=dark] .colab-df-convert:hover {\n",
              "      background-color: #434B5C;\n",
              "      box-shadow: 0px 1px 3px 1px rgba(0, 0, 0, 0.15);\n",
              "      filter: drop-shadow(0px 1px 2px rgba(0, 0, 0, 0.3));\n",
              "      fill: #FFFFFF;\n",
              "    }\n",
              "  </style>\n",
              "\n",
              "      <script>\n",
              "        const buttonEl =\n",
              "          document.querySelector('#df-d77cfaf3-eb9a-48ee-8223-39b0276200cf button.colab-df-convert');\n",
              "        buttonEl.style.display =\n",
              "          google.colab.kernel.accessAllowed ? 'block' : 'none';\n",
              "\n",
              "        async function convertToInteractive(key) {\n",
              "          const element = document.querySelector('#df-d77cfaf3-eb9a-48ee-8223-39b0276200cf');\n",
              "          const dataTable =\n",
              "            await google.colab.kernel.invokeFunction('convertToInteractive',\n",
              "                                                     [key], {});\n",
              "          if (!dataTable) return;\n",
              "\n",
              "          const docLinkHtml = 'Like what you see? Visit the ' +\n",
              "            '<a target=\"_blank\" href=https://colab.research.google.com/notebooks/data_table.ipynb>data table notebook</a>'\n",
              "            + ' to learn more about interactive tables.';\n",
              "          element.innerHTML = '';\n",
              "          dataTable['output_type'] = 'display_data';\n",
              "          await google.colab.output.renderOutput(dataTable, element);\n",
              "          const docLink = document.createElement('div');\n",
              "          docLink.innerHTML = docLinkHtml;\n",
              "          element.appendChild(docLink);\n",
              "        }\n",
              "      </script>\n",
              "    </div>\n",
              "  </div>\n",
              "  "
            ]
          },
          "metadata": {},
          "execution_count": 39
        }
      ],
      "source": [
        "df.head(100)"
      ]
    },
    {
      "cell_type": "code",
      "execution_count": 40,
      "metadata": {
        "colab": {
          "base_uri": "https://localhost:8080/"
        },
        "id": "uCg2J1SEfqet",
        "outputId": "6e1dab6c-59fb-466f-c0f5-df49c389c001"
      },
      "outputs": [
        {
          "output_type": "stream",
          "name": "stdout",
          "text": [
            "(104, 1)\n"
          ]
        }
      ],
      "source": [
        "y=df['sex'].to_numpy()\n",
        "y=y.reshape(-1,1)\n",
        "print(y.shape)"
      ]
    },
    {
      "cell_type": "code",
      "execution_count": 41,
      "metadata": {
        "colab": {
          "base_uri": "https://localhost:8080/"
        },
        "id": "cPiDVa-w0-2z",
        "outputId": "eda02c2f-19a1-4f04-b0eb-8c93b34fa050"
      },
      "outputs": [
        {
          "output_type": "stream",
          "name": "stdout",
          "text": [
            "(104, 13)\n"
          ]
        }
      ],
      "source": [
        "x=df.drop(['sex'],axis=1).to_numpy()\n",
        "print(x.shape)"
      ]
    },
    {
      "cell_type": "code",
      "execution_count": 42,
      "metadata": {
        "id": "Vm0Cg_YJ5Nqd"
      },
      "outputs": [],
      "source": [
        "np.random.seed(0)"
      ]
    },
    {
      "cell_type": "code",
      "execution_count": 43,
      "metadata": {
        "id": "TdGMvpk77kVl"
      },
      "outputs": [],
      "source": [
        "from sklearn.preprocessing import StandardScaler\n",
        "scaler=StandardScaler()"
      ]
    },
    {
      "cell_type": "code",
      "execution_count": 44,
      "metadata": {
        "id": "m42abXGp8rws"
      },
      "outputs": [],
      "source": [
        "x_nrm=scaler.fit_transform(x)"
      ]
    },
    {
      "cell_type": "code",
      "execution_count": 45,
      "metadata": {
        "id": "_9uaa3sy5wNc"
      },
      "outputs": [],
      "source": [
        "from sklearn.model_selection import train_test_split"
      ]
    },
    {
      "cell_type": "code",
      "execution_count": 46,
      "metadata": {
        "id": "3UuxqCwTUjSA"
      },
      "outputs": [],
      "source": [
        "from tensorflow.keras.callbacks import EarlyStopping\n",
        "early_stopping=EarlyStopping(patience=5,verbose=1,restore_best_weights=True)"
      ]
    },
    {
      "cell_type": "code",
      "execution_count": 47,
      "metadata": {
        "id": "e8ak9TiO6CcT"
      },
      "outputs": [],
      "source": [
        "x_train,x_val_test,y_train,y_val_test=train_test_split(x_nrm,y,train_size=0.8)"
      ]
    },
    {
      "cell_type": "code",
      "execution_count": 48,
      "metadata": {
        "id": "If-aoZYzQEcY"
      },
      "outputs": [],
      "source": [
        "x_val , x_test ,y_val , y_test=train_test_split(x_val_test , y_val_test ,test_size=0.2)"
      ]
    },
    {
      "cell_type": "code",
      "execution_count": 49,
      "metadata": {
        "id": "KRkob86p87Pn"
      },
      "outputs": [],
      "source": [
        "from tensorflow.keras.models import Sequential\n",
        "from tensorflow.keras.layers import Dense\n",
        "mdl=Sequential()\n",
        "mdl.add(Dense(units=8 , activation='relu'))\n",
        "mdl.add(Dense(4,'relu'))\n",
        "mdl.add(Dense(1,'linear'))\n",
        "mdl.compile(optimizer='adam',loss='mse',metrics='accuracy')"
      ]
    },
    {
      "cell_type": "code",
      "execution_count": 50,
      "metadata": {
        "colab": {
          "base_uri": "https://localhost:8080/"
        },
        "id": "AAeVez2TLGHI",
        "outputId": "309400bb-3d5b-4d51-d3b2-1f9283055acb"
      },
      "outputs": [
        {
          "output_type": "stream",
          "name": "stdout",
          "text": [
            "Epoch 1/180\n",
            "3/3 [==============================] - 2s 158ms/step - loss: 0.7418 - accuracy: 0.3735 - val_loss: 0.8826 - val_accuracy: 0.3750\n",
            "Epoch 2/180\n",
            "3/3 [==============================] - 0s 29ms/step - loss: 0.7118 - accuracy: 0.3735 - val_loss: 0.8509 - val_accuracy: 0.3750\n",
            "Epoch 3/180\n",
            "3/3 [==============================] - 0s 38ms/step - loss: 0.6808 - accuracy: 0.3735 - val_loss: 0.8214 - val_accuracy: 0.3750\n",
            "Epoch 4/180\n",
            "3/3 [==============================] - 0s 32ms/step - loss: 0.6522 - accuracy: 0.3735 - val_loss: 0.7933 - val_accuracy: 0.3750\n",
            "Epoch 5/180\n",
            "3/3 [==============================] - 0s 48ms/step - loss: 0.6250 - accuracy: 0.3614 - val_loss: 0.7658 - val_accuracy: 0.3750\n",
            "Epoch 6/180\n",
            "3/3 [==============================] - 0s 35ms/step - loss: 0.6017 - accuracy: 0.3614 - val_loss: 0.7394 - val_accuracy: 0.3750\n",
            "Epoch 7/180\n",
            "3/3 [==============================] - 0s 34ms/step - loss: 0.5804 - accuracy: 0.3735 - val_loss: 0.7182 - val_accuracy: 0.3750\n",
            "Epoch 8/180\n",
            "3/3 [==============================] - 0s 30ms/step - loss: 0.5628 - accuracy: 0.3735 - val_loss: 0.7000 - val_accuracy: 0.3750\n",
            "Epoch 9/180\n",
            "3/3 [==============================] - 0s 36ms/step - loss: 0.5454 - accuracy: 0.3976 - val_loss: 0.6831 - val_accuracy: 0.3750\n",
            "Epoch 10/180\n",
            "3/3 [==============================] - 0s 42ms/step - loss: 0.5301 - accuracy: 0.3976 - val_loss: 0.6667 - val_accuracy: 0.3750\n",
            "Epoch 11/180\n",
            "3/3 [==============================] - 0s 31ms/step - loss: 0.5187 - accuracy: 0.3976 - val_loss: 0.6504 - val_accuracy: 0.3750\n",
            "Epoch 12/180\n",
            "3/3 [==============================] - 0s 29ms/step - loss: 0.5052 - accuracy: 0.3976 - val_loss: 0.6354 - val_accuracy: 0.3750\n",
            "Epoch 13/180\n",
            "3/3 [==============================] - 0s 37ms/step - loss: 0.4947 - accuracy: 0.3976 - val_loss: 0.6215 - val_accuracy: 0.3750\n",
            "Epoch 14/180\n",
            "3/3 [==============================] - 0s 42ms/step - loss: 0.4852 - accuracy: 0.4096 - val_loss: 0.6087 - val_accuracy: 0.3750\n",
            "Epoch 15/180\n",
            "3/3 [==============================] - 0s 34ms/step - loss: 0.4751 - accuracy: 0.4217 - val_loss: 0.5972 - val_accuracy: 0.4375\n",
            "Epoch 16/180\n",
            "3/3 [==============================] - 0s 40ms/step - loss: 0.4676 - accuracy: 0.4458 - val_loss: 0.5857 - val_accuracy: 0.4375\n",
            "Epoch 17/180\n",
            "3/3 [==============================] - 0s 34ms/step - loss: 0.4606 - accuracy: 0.4458 - val_loss: 0.5749 - val_accuracy: 0.4375\n",
            "Epoch 18/180\n",
            "3/3 [==============================] - 0s 39ms/step - loss: 0.4528 - accuracy: 0.4699 - val_loss: 0.5647 - val_accuracy: 0.4375\n",
            "Epoch 19/180\n",
            "3/3 [==============================] - 0s 36ms/step - loss: 0.4445 - accuracy: 0.4819 - val_loss: 0.5555 - val_accuracy: 0.4375\n",
            "Epoch 20/180\n",
            "3/3 [==============================] - 0s 40ms/step - loss: 0.4379 - accuracy: 0.4819 - val_loss: 0.5472 - val_accuracy: 0.4375\n",
            "Epoch 21/180\n",
            "3/3 [==============================] - 0s 38ms/step - loss: 0.4312 - accuracy: 0.4819 - val_loss: 0.5394 - val_accuracy: 0.4375\n",
            "Epoch 22/180\n",
            "3/3 [==============================] - 0s 41ms/step - loss: 0.4246 - accuracy: 0.4819 - val_loss: 0.5324 - val_accuracy: 0.4375\n",
            "Epoch 23/180\n",
            "3/3 [==============================] - 0s 38ms/step - loss: 0.4176 - accuracy: 0.4819 - val_loss: 0.5256 - val_accuracy: 0.4375\n",
            "Epoch 24/180\n",
            "3/3 [==============================] - 0s 31ms/step - loss: 0.4097 - accuracy: 0.4819 - val_loss: 0.5193 - val_accuracy: 0.4375\n",
            "Epoch 25/180\n",
            "3/3 [==============================] - 0s 33ms/step - loss: 0.4024 - accuracy: 0.4819 - val_loss: 0.5134 - val_accuracy: 0.4375\n",
            "Epoch 26/180\n",
            "3/3 [==============================] - 0s 24ms/step - loss: 0.3952 - accuracy: 0.4819 - val_loss: 0.5083 - val_accuracy: 0.4375\n",
            "Epoch 27/180\n",
            "3/3 [==============================] - 0s 31ms/step - loss: 0.3898 - accuracy: 0.4819 - val_loss: 0.5035 - val_accuracy: 0.4375\n",
            "Epoch 28/180\n",
            "3/3 [==============================] - 0s 32ms/step - loss: 0.3840 - accuracy: 0.4940 - val_loss: 0.4991 - val_accuracy: 0.4375\n",
            "Epoch 29/180\n",
            "3/3 [==============================] - 0s 24ms/step - loss: 0.3786 - accuracy: 0.5060 - val_loss: 0.4948 - val_accuracy: 0.4375\n",
            "Epoch 30/180\n",
            "3/3 [==============================] - 0s 37ms/step - loss: 0.3740 - accuracy: 0.5060 - val_loss: 0.4907 - val_accuracy: 0.4375\n",
            "Epoch 31/180\n",
            "3/3 [==============================] - 0s 31ms/step - loss: 0.3688 - accuracy: 0.5060 - val_loss: 0.4866 - val_accuracy: 0.4375\n",
            "Epoch 32/180\n",
            "3/3 [==============================] - 0s 34ms/step - loss: 0.3644 - accuracy: 0.5060 - val_loss: 0.4827 - val_accuracy: 0.3750\n",
            "Epoch 33/180\n",
            "3/3 [==============================] - 0s 32ms/step - loss: 0.3603 - accuracy: 0.5060 - val_loss: 0.4790 - val_accuracy: 0.4375\n",
            "Epoch 34/180\n",
            "3/3 [==============================] - 0s 32ms/step - loss: 0.3564 - accuracy: 0.5181 - val_loss: 0.4756 - val_accuracy: 0.4375\n",
            "Epoch 35/180\n",
            "3/3 [==============================] - 0s 32ms/step - loss: 0.3523 - accuracy: 0.5181 - val_loss: 0.4722 - val_accuracy: 0.4375\n",
            "Epoch 36/180\n",
            "3/3 [==============================] - 0s 24ms/step - loss: 0.3484 - accuracy: 0.5060 - val_loss: 0.4691 - val_accuracy: 0.4375\n",
            "Epoch 37/180\n",
            "3/3 [==============================] - 0s 31ms/step - loss: 0.3456 - accuracy: 0.5060 - val_loss: 0.4661 - val_accuracy: 0.4375\n",
            "Epoch 38/180\n",
            "3/3 [==============================] - 0s 24ms/step - loss: 0.3421 - accuracy: 0.5181 - val_loss: 0.4636 - val_accuracy: 0.4375\n",
            "Epoch 39/180\n",
            "3/3 [==============================] - 0s 23ms/step - loss: 0.3396 - accuracy: 0.5422 - val_loss: 0.4613 - val_accuracy: 0.4375\n",
            "Epoch 40/180\n",
            "3/3 [==============================] - 0s 37ms/step - loss: 0.3366 - accuracy: 0.5542 - val_loss: 0.4593 - val_accuracy: 0.5000\n",
            "Epoch 41/180\n",
            "3/3 [==============================] - 0s 31ms/step - loss: 0.3342 - accuracy: 0.5542 - val_loss: 0.4568 - val_accuracy: 0.5000\n",
            "Epoch 42/180\n",
            "3/3 [==============================] - 0s 33ms/step - loss: 0.3319 - accuracy: 0.5422 - val_loss: 0.4543 - val_accuracy: 0.5000\n",
            "Epoch 43/180\n",
            "3/3 [==============================] - 0s 31ms/step - loss: 0.3297 - accuracy: 0.5422 - val_loss: 0.4518 - val_accuracy: 0.5000\n",
            "Epoch 44/180\n",
            "3/3 [==============================] - 0s 36ms/step - loss: 0.3269 - accuracy: 0.5542 - val_loss: 0.4493 - val_accuracy: 0.5000\n",
            "Epoch 45/180\n",
            "3/3 [==============================] - 0s 31ms/step - loss: 0.3246 - accuracy: 0.5542 - val_loss: 0.4466 - val_accuracy: 0.5000\n",
            "Epoch 46/180\n",
            "3/3 [==============================] - 0s 23ms/step - loss: 0.3222 - accuracy: 0.5542 - val_loss: 0.4442 - val_accuracy: 0.5000\n",
            "Epoch 47/180\n",
            "3/3 [==============================] - 0s 22ms/step - loss: 0.3199 - accuracy: 0.5422 - val_loss: 0.4421 - val_accuracy: 0.5000\n",
            "Epoch 48/180\n",
            "3/3 [==============================] - 0s 31ms/step - loss: 0.3177 - accuracy: 0.5422 - val_loss: 0.4403 - val_accuracy: 0.5000\n",
            "Epoch 49/180\n",
            "3/3 [==============================] - 0s 22ms/step - loss: 0.3154 - accuracy: 0.5422 - val_loss: 0.4382 - val_accuracy: 0.5000\n",
            "Epoch 50/180\n",
            "3/3 [==============================] - 0s 26ms/step - loss: 0.3132 - accuracy: 0.5542 - val_loss: 0.4355 - val_accuracy: 0.5000\n",
            "Epoch 51/180\n",
            "3/3 [==============================] - 0s 21ms/step - loss: 0.3112 - accuracy: 0.5663 - val_loss: 0.4325 - val_accuracy: 0.5000\n",
            "Epoch 52/180\n",
            "3/3 [==============================] - 0s 31ms/step - loss: 0.3092 - accuracy: 0.5663 - val_loss: 0.4299 - val_accuracy: 0.5000\n",
            "Epoch 53/180\n",
            "3/3 [==============================] - 0s 23ms/step - loss: 0.3071 - accuracy: 0.5663 - val_loss: 0.4271 - val_accuracy: 0.5000\n",
            "Epoch 54/180\n",
            "3/3 [==============================] - 0s 34ms/step - loss: 0.3053 - accuracy: 0.5663 - val_loss: 0.4246 - val_accuracy: 0.5000\n",
            "Epoch 55/180\n",
            "3/3 [==============================] - 0s 30ms/step - loss: 0.3034 - accuracy: 0.5663 - val_loss: 0.4221 - val_accuracy: 0.5000\n",
            "Epoch 56/180\n",
            "3/3 [==============================] - 0s 25ms/step - loss: 0.3017 - accuracy: 0.5663 - val_loss: 0.4198 - val_accuracy: 0.5000\n",
            "Epoch 57/180\n",
            "3/3 [==============================] - 0s 31ms/step - loss: 0.2998 - accuracy: 0.5663 - val_loss: 0.4172 - val_accuracy: 0.5000\n",
            "Epoch 58/180\n",
            "3/3 [==============================] - 0s 22ms/step - loss: 0.2982 - accuracy: 0.5783 - val_loss: 0.4149 - val_accuracy: 0.5000\n",
            "Epoch 59/180\n",
            "3/3 [==============================] - 0s 32ms/step - loss: 0.2966 - accuracy: 0.5783 - val_loss: 0.4120 - val_accuracy: 0.5000\n",
            "Epoch 60/180\n",
            "3/3 [==============================] - 0s 22ms/step - loss: 0.2949 - accuracy: 0.5783 - val_loss: 0.4095 - val_accuracy: 0.5000\n",
            "Epoch 61/180\n",
            "3/3 [==============================] - 0s 22ms/step - loss: 0.2931 - accuracy: 0.5783 - val_loss: 0.4067 - val_accuracy: 0.5000\n",
            "Epoch 62/180\n",
            "3/3 [==============================] - 0s 31ms/step - loss: 0.2917 - accuracy: 0.5783 - val_loss: 0.4038 - val_accuracy: 0.5000\n",
            "Epoch 63/180\n",
            "3/3 [==============================] - 0s 31ms/step - loss: 0.2900 - accuracy: 0.6024 - val_loss: 0.4010 - val_accuracy: 0.5000\n",
            "Epoch 64/180\n",
            "3/3 [==============================] - 0s 22ms/step - loss: 0.2886 - accuracy: 0.6024 - val_loss: 0.3983 - val_accuracy: 0.5000\n",
            "Epoch 65/180\n",
            "3/3 [==============================] - 0s 30ms/step - loss: 0.2868 - accuracy: 0.6024 - val_loss: 0.3959 - val_accuracy: 0.5000\n",
            "Epoch 66/180\n",
            "3/3 [==============================] - 0s 24ms/step - loss: 0.2855 - accuracy: 0.6024 - val_loss: 0.3936 - val_accuracy: 0.5000\n",
            "Epoch 67/180\n",
            "3/3 [==============================] - 0s 26ms/step - loss: 0.2840 - accuracy: 0.6024 - val_loss: 0.3911 - val_accuracy: 0.5000\n",
            "Epoch 68/180\n",
            "3/3 [==============================] - 0s 35ms/step - loss: 0.2824 - accuracy: 0.6024 - val_loss: 0.3887 - val_accuracy: 0.5000\n",
            "Epoch 69/180\n",
            "3/3 [==============================] - 0s 27ms/step - loss: 0.2810 - accuracy: 0.6024 - val_loss: 0.3866 - val_accuracy: 0.5000\n",
            "Epoch 70/180\n",
            "3/3 [==============================] - 0s 22ms/step - loss: 0.2796 - accuracy: 0.6024 - val_loss: 0.3845 - val_accuracy: 0.5000\n",
            "Epoch 71/180\n",
            "3/3 [==============================] - 0s 32ms/step - loss: 0.2785 - accuracy: 0.6024 - val_loss: 0.3824 - val_accuracy: 0.5000\n",
            "Epoch 72/180\n",
            "3/3 [==============================] - 0s 31ms/step - loss: 0.2771 - accuracy: 0.6024 - val_loss: 0.3805 - val_accuracy: 0.5000\n",
            "Epoch 73/180\n",
            "3/3 [==============================] - 0s 36ms/step - loss: 0.2758 - accuracy: 0.6024 - val_loss: 0.3789 - val_accuracy: 0.5000\n",
            "Epoch 74/180\n",
            "3/3 [==============================] - 0s 23ms/step - loss: 0.2745 - accuracy: 0.6024 - val_loss: 0.3774 - val_accuracy: 0.5000\n",
            "Epoch 75/180\n",
            "3/3 [==============================] - 0s 24ms/step - loss: 0.2733 - accuracy: 0.6024 - val_loss: 0.3759 - val_accuracy: 0.5000\n",
            "Epoch 76/180\n",
            "3/3 [==============================] - 0s 35ms/step - loss: 0.2719 - accuracy: 0.6024 - val_loss: 0.3744 - val_accuracy: 0.5000\n",
            "Epoch 77/180\n",
            "3/3 [==============================] - 0s 22ms/step - loss: 0.2707 - accuracy: 0.6024 - val_loss: 0.3729 - val_accuracy: 0.5000\n",
            "Epoch 78/180\n",
            "3/3 [==============================] - 0s 31ms/step - loss: 0.2694 - accuracy: 0.6145 - val_loss: 0.3718 - val_accuracy: 0.5000\n",
            "Epoch 79/180\n",
            "3/3 [==============================] - 0s 32ms/step - loss: 0.2683 - accuracy: 0.6145 - val_loss: 0.3703 - val_accuracy: 0.5000\n",
            "Epoch 80/180\n",
            "3/3 [==============================] - 0s 23ms/step - loss: 0.2670 - accuracy: 0.6145 - val_loss: 0.3690 - val_accuracy: 0.5000\n",
            "Epoch 81/180\n",
            "3/3 [==============================] - 0s 24ms/step - loss: 0.2660 - accuracy: 0.6145 - val_loss: 0.3675 - val_accuracy: 0.5000\n",
            "Epoch 82/180\n",
            "3/3 [==============================] - 0s 33ms/step - loss: 0.2647 - accuracy: 0.6145 - val_loss: 0.3661 - val_accuracy: 0.5000\n",
            "Epoch 83/180\n",
            "3/3 [==============================] - 0s 31ms/step - loss: 0.2635 - accuracy: 0.6145 - val_loss: 0.3649 - val_accuracy: 0.5000\n",
            "Epoch 84/180\n",
            "3/3 [==============================] - 0s 26ms/step - loss: 0.2625 - accuracy: 0.6145 - val_loss: 0.3635 - val_accuracy: 0.5000\n",
            "Epoch 85/180\n",
            "3/3 [==============================] - 0s 24ms/step - loss: 0.2613 - accuracy: 0.6145 - val_loss: 0.3626 - val_accuracy: 0.5000\n",
            "Epoch 86/180\n",
            "3/3 [==============================] - 0s 23ms/step - loss: 0.2600 - accuracy: 0.6265 - val_loss: 0.3615 - val_accuracy: 0.5000\n",
            "Epoch 87/180\n",
            "3/3 [==============================] - 0s 24ms/step - loss: 0.2589 - accuracy: 0.6265 - val_loss: 0.3602 - val_accuracy: 0.5000\n",
            "Epoch 88/180\n",
            "3/3 [==============================] - 0s 33ms/step - loss: 0.2578 - accuracy: 0.6265 - val_loss: 0.3590 - val_accuracy: 0.5000\n",
            "Epoch 89/180\n",
            "3/3 [==============================] - 0s 30ms/step - loss: 0.2567 - accuracy: 0.6265 - val_loss: 0.3577 - val_accuracy: 0.5000\n",
            "Epoch 90/180\n",
            "3/3 [==============================] - 0s 34ms/step - loss: 0.2556 - accuracy: 0.6265 - val_loss: 0.3564 - val_accuracy: 0.5000\n",
            "Epoch 91/180\n",
            "3/3 [==============================] - 0s 23ms/step - loss: 0.2547 - accuracy: 0.6265 - val_loss: 0.3549 - val_accuracy: 0.5000\n",
            "Epoch 92/180\n",
            "3/3 [==============================] - 0s 36ms/step - loss: 0.2536 - accuracy: 0.6265 - val_loss: 0.3537 - val_accuracy: 0.5000\n",
            "Epoch 93/180\n",
            "3/3 [==============================] - 0s 41ms/step - loss: 0.2526 - accuracy: 0.6265 - val_loss: 0.3528 - val_accuracy: 0.5000\n",
            "Epoch 94/180\n",
            "3/3 [==============================] - 0s 41ms/step - loss: 0.2517 - accuracy: 0.6265 - val_loss: 0.3517 - val_accuracy: 0.5000\n",
            "Epoch 95/180\n",
            "3/3 [==============================] - 0s 42ms/step - loss: 0.2507 - accuracy: 0.6265 - val_loss: 0.3508 - val_accuracy: 0.5000\n",
            "Epoch 96/180\n",
            "3/3 [==============================] - 0s 39ms/step - loss: 0.2498 - accuracy: 0.6265 - val_loss: 0.3494 - val_accuracy: 0.5000\n",
            "Epoch 97/180\n",
            "3/3 [==============================] - 0s 40ms/step - loss: 0.2489 - accuracy: 0.6265 - val_loss: 0.3485 - val_accuracy: 0.5000\n",
            "Epoch 98/180\n",
            "3/3 [==============================] - 0s 38ms/step - loss: 0.2480 - accuracy: 0.6265 - val_loss: 0.3476 - val_accuracy: 0.5000\n",
            "Epoch 99/180\n",
            "3/3 [==============================] - 0s 43ms/step - loss: 0.2472 - accuracy: 0.6265 - val_loss: 0.3466 - val_accuracy: 0.5000\n",
            "Epoch 100/180\n",
            "3/3 [==============================] - 0s 48ms/step - loss: 0.2463 - accuracy: 0.6386 - val_loss: 0.3457 - val_accuracy: 0.5000\n",
            "Epoch 101/180\n",
            "3/3 [==============================] - 0s 37ms/step - loss: 0.2455 - accuracy: 0.6506 - val_loss: 0.3447 - val_accuracy: 0.5000\n",
            "Epoch 102/180\n",
            "3/3 [==============================] - 0s 39ms/step - loss: 0.2447 - accuracy: 0.6506 - val_loss: 0.3440 - val_accuracy: 0.5000\n",
            "Epoch 103/180\n",
            "3/3 [==============================] - 0s 45ms/step - loss: 0.2439 - accuracy: 0.6506 - val_loss: 0.3432 - val_accuracy: 0.5000\n",
            "Epoch 104/180\n",
            "3/3 [==============================] - 0s 41ms/step - loss: 0.2431 - accuracy: 0.6506 - val_loss: 0.3425 - val_accuracy: 0.5000\n",
            "Epoch 105/180\n",
            "3/3 [==============================] - 0s 46ms/step - loss: 0.2422 - accuracy: 0.6506 - val_loss: 0.3420 - val_accuracy: 0.5000\n",
            "Epoch 106/180\n",
            "3/3 [==============================] - 0s 29ms/step - loss: 0.2415 - accuracy: 0.6506 - val_loss: 0.3415 - val_accuracy: 0.5000\n",
            "Epoch 107/180\n",
            "3/3 [==============================] - 0s 41ms/step - loss: 0.2407 - accuracy: 0.6506 - val_loss: 0.3407 - val_accuracy: 0.5000\n",
            "Epoch 108/180\n",
            "3/3 [==============================] - 0s 39ms/step - loss: 0.2400 - accuracy: 0.6506 - val_loss: 0.3401 - val_accuracy: 0.5000\n",
            "Epoch 109/180\n",
            "3/3 [==============================] - 0s 43ms/step - loss: 0.2392 - accuracy: 0.6506 - val_loss: 0.3394 - val_accuracy: 0.5000\n",
            "Epoch 110/180\n",
            "3/3 [==============================] - 0s 40ms/step - loss: 0.2384 - accuracy: 0.6506 - val_loss: 0.3385 - val_accuracy: 0.5000\n",
            "Epoch 111/180\n",
            "3/3 [==============================] - 0s 28ms/step - loss: 0.2377 - accuracy: 0.6506 - val_loss: 0.3377 - val_accuracy: 0.5000\n",
            "Epoch 112/180\n",
            "3/3 [==============================] - 0s 44ms/step - loss: 0.2369 - accuracy: 0.6506 - val_loss: 0.3374 - val_accuracy: 0.5000\n",
            "Epoch 113/180\n",
            "3/3 [==============================] - 0s 39ms/step - loss: 0.2361 - accuracy: 0.6506 - val_loss: 0.3369 - val_accuracy: 0.5000\n",
            "Epoch 114/180\n",
            "3/3 [==============================] - 0s 44ms/step - loss: 0.2354 - accuracy: 0.6506 - val_loss: 0.3363 - val_accuracy: 0.5000\n",
            "Epoch 115/180\n",
            "3/3 [==============================] - 0s 29ms/step - loss: 0.2347 - accuracy: 0.6506 - val_loss: 0.3356 - val_accuracy: 0.5000\n",
            "Epoch 116/180\n",
            "3/3 [==============================] - 0s 41ms/step - loss: 0.2340 - accuracy: 0.6627 - val_loss: 0.3349 - val_accuracy: 0.5000\n",
            "Epoch 117/180\n",
            "3/3 [==============================] - 0s 42ms/step - loss: 0.2334 - accuracy: 0.6627 - val_loss: 0.3343 - val_accuracy: 0.5000\n",
            "Epoch 118/180\n",
            "3/3 [==============================] - 0s 39ms/step - loss: 0.2327 - accuracy: 0.6627 - val_loss: 0.3332 - val_accuracy: 0.5000\n",
            "Epoch 119/180\n",
            "3/3 [==============================] - 0s 46ms/step - loss: 0.2319 - accuracy: 0.6627 - val_loss: 0.3322 - val_accuracy: 0.5000\n",
            "Epoch 120/180\n",
            "3/3 [==============================] - 0s 38ms/step - loss: 0.2314 - accuracy: 0.6627 - val_loss: 0.3312 - val_accuracy: 0.5000\n",
            "Epoch 121/180\n",
            "3/3 [==============================] - 0s 41ms/step - loss: 0.2306 - accuracy: 0.6627 - val_loss: 0.3302 - val_accuracy: 0.5000\n",
            "Epoch 122/180\n",
            "3/3 [==============================] - 0s 38ms/step - loss: 0.2301 - accuracy: 0.6506 - val_loss: 0.3291 - val_accuracy: 0.5000\n",
            "Epoch 123/180\n",
            "3/3 [==============================] - 0s 40ms/step - loss: 0.2294 - accuracy: 0.6506 - val_loss: 0.3284 - val_accuracy: 0.5000\n",
            "Epoch 124/180\n",
            "3/3 [==============================] - 0s 41ms/step - loss: 0.2287 - accuracy: 0.6506 - val_loss: 0.3278 - val_accuracy: 0.5000\n",
            "Epoch 125/180\n",
            "3/3 [==============================] - 0s 39ms/step - loss: 0.2281 - accuracy: 0.6506 - val_loss: 0.3275 - val_accuracy: 0.5000\n",
            "Epoch 126/180\n",
            "3/3 [==============================] - 0s 38ms/step - loss: 0.2274 - accuracy: 0.6506 - val_loss: 0.3272 - val_accuracy: 0.5000\n",
            "Epoch 127/180\n",
            "3/3 [==============================] - 0s 38ms/step - loss: 0.2268 - accuracy: 0.6506 - val_loss: 0.3267 - val_accuracy: 0.4375\n",
            "Epoch 128/180\n",
            "3/3 [==============================] - 0s 41ms/step - loss: 0.2261 - accuracy: 0.6506 - val_loss: 0.3263 - val_accuracy: 0.4375\n",
            "Epoch 129/180\n",
            "3/3 [==============================] - 0s 40ms/step - loss: 0.2255 - accuracy: 0.6506 - val_loss: 0.3256 - val_accuracy: 0.4375\n",
            "Epoch 130/180\n",
            "3/3 [==============================] - 0s 32ms/step - loss: 0.2249 - accuracy: 0.6506 - val_loss: 0.3250 - val_accuracy: 0.4375\n",
            "Epoch 131/180\n",
            "3/3 [==============================] - 0s 41ms/step - loss: 0.2244 - accuracy: 0.6506 - val_loss: 0.3242 - val_accuracy: 0.4375\n",
            "Epoch 132/180\n",
            "3/3 [==============================] - 0s 38ms/step - loss: 0.2237 - accuracy: 0.6506 - val_loss: 0.3239 - val_accuracy: 0.4375\n",
            "Epoch 133/180\n",
            "3/3 [==============================] - 0s 45ms/step - loss: 0.2231 - accuracy: 0.6506 - val_loss: 0.3233 - val_accuracy: 0.4375\n",
            "Epoch 134/180\n",
            "3/3 [==============================] - 0s 30ms/step - loss: 0.2225 - accuracy: 0.6506 - val_loss: 0.3227 - val_accuracy: 0.4375\n",
            "Epoch 135/180\n",
            "3/3 [==============================] - 0s 38ms/step - loss: 0.2220 - accuracy: 0.6506 - val_loss: 0.3222 - val_accuracy: 0.4375\n",
            "Epoch 136/180\n",
            "3/3 [==============================] - 0s 40ms/step - loss: 0.2213 - accuracy: 0.6506 - val_loss: 0.3214 - val_accuracy: 0.4375\n",
            "Epoch 137/180\n",
            "3/3 [==============================] - 0s 38ms/step - loss: 0.2207 - accuracy: 0.6506 - val_loss: 0.3201 - val_accuracy: 0.4375\n",
            "Epoch 138/180\n",
            "3/3 [==============================] - 0s 47ms/step - loss: 0.2201 - accuracy: 0.6506 - val_loss: 0.3191 - val_accuracy: 0.4375\n",
            "Epoch 139/180\n",
            "3/3 [==============================] - 0s 35ms/step - loss: 0.2196 - accuracy: 0.6506 - val_loss: 0.3181 - val_accuracy: 0.4375\n",
            "Epoch 140/180\n",
            "3/3 [==============================] - 0s 24ms/step - loss: 0.2190 - accuracy: 0.6506 - val_loss: 0.3172 - val_accuracy: 0.4375\n",
            "Epoch 141/180\n",
            "3/3 [==============================] - 0s 22ms/step - loss: 0.2184 - accuracy: 0.6506 - val_loss: 0.3165 - val_accuracy: 0.4375\n",
            "Epoch 142/180\n",
            "3/3 [==============================] - 0s 22ms/step - loss: 0.2180 - accuracy: 0.6506 - val_loss: 0.3159 - val_accuracy: 0.4375\n",
            "Epoch 143/180\n",
            "3/3 [==============================] - 0s 33ms/step - loss: 0.2175 - accuracy: 0.6506 - val_loss: 0.3152 - val_accuracy: 0.4375\n",
            "Epoch 144/180\n",
            "3/3 [==============================] - 0s 27ms/step - loss: 0.2169 - accuracy: 0.6506 - val_loss: 0.3145 - val_accuracy: 0.4375\n",
            "Epoch 145/180\n",
            "3/3 [==============================] - 0s 31ms/step - loss: 0.2164 - accuracy: 0.6506 - val_loss: 0.3142 - val_accuracy: 0.4375\n",
            "Epoch 146/180\n",
            "3/3 [==============================] - 0s 32ms/step - loss: 0.2159 - accuracy: 0.6506 - val_loss: 0.3139 - val_accuracy: 0.5000\n",
            "Epoch 147/180\n",
            "3/3 [==============================] - 0s 26ms/step - loss: 0.2155 - accuracy: 0.6506 - val_loss: 0.3135 - val_accuracy: 0.5000\n",
            "Epoch 148/180\n",
            "3/3 [==============================] - 0s 21ms/step - loss: 0.2150 - accuracy: 0.6506 - val_loss: 0.3129 - val_accuracy: 0.5000\n",
            "Epoch 149/180\n",
            "3/3 [==============================] - 0s 30ms/step - loss: 0.2145 - accuracy: 0.6506 - val_loss: 0.3126 - val_accuracy: 0.5000\n",
            "Epoch 150/180\n",
            "3/3 [==============================] - 0s 30ms/step - loss: 0.2141 - accuracy: 0.6506 - val_loss: 0.3119 - val_accuracy: 0.5000\n",
            "Epoch 151/180\n",
            "3/3 [==============================] - 0s 32ms/step - loss: 0.2136 - accuracy: 0.6506 - val_loss: 0.3117 - val_accuracy: 0.5000\n",
            "Epoch 152/180\n",
            "3/3 [==============================] - 0s 22ms/step - loss: 0.2131 - accuracy: 0.6506 - val_loss: 0.3117 - val_accuracy: 0.5000\n",
            "Epoch 153/180\n",
            "3/3 [==============================] - 0s 33ms/step - loss: 0.2126 - accuracy: 0.6506 - val_loss: 0.3116 - val_accuracy: 0.5000\n",
            "Epoch 154/180\n",
            "3/3 [==============================] - 0s 31ms/step - loss: 0.2121 - accuracy: 0.6506 - val_loss: 0.3115 - val_accuracy: 0.5000\n",
            "Epoch 155/180\n",
            "3/3 [==============================] - 0s 23ms/step - loss: 0.2116 - accuracy: 0.6506 - val_loss: 0.3109 - val_accuracy: 0.5000\n",
            "Epoch 156/180\n",
            "3/3 [==============================] - 0s 26ms/step - loss: 0.2111 - accuracy: 0.6506 - val_loss: 0.3102 - val_accuracy: 0.5000\n",
            "Epoch 157/180\n",
            "3/3 [==============================] - 0s 23ms/step - loss: 0.2107 - accuracy: 0.6506 - val_loss: 0.3098 - val_accuracy: 0.5000\n",
            "Epoch 158/180\n",
            "3/3 [==============================] - 0s 21ms/step - loss: 0.2102 - accuracy: 0.6506 - val_loss: 0.3094 - val_accuracy: 0.5000\n",
            "Epoch 159/180\n",
            "3/3 [==============================] - 0s 27ms/step - loss: 0.2097 - accuracy: 0.6506 - val_loss: 0.3091 - val_accuracy: 0.5000\n",
            "Epoch 160/180\n",
            "3/3 [==============================] - 0s 24ms/step - loss: 0.2093 - accuracy: 0.6506 - val_loss: 0.3090 - val_accuracy: 0.5000\n",
            "Epoch 161/180\n",
            "3/3 [==============================] - 0s 24ms/step - loss: 0.2088 - accuracy: 0.6506 - val_loss: 0.3090 - val_accuracy: 0.5000\n",
            "Epoch 162/180\n",
            "3/3 [==============================] - 0s 22ms/step - loss: 0.2083 - accuracy: 0.6506 - val_loss: 0.3089 - val_accuracy: 0.5000\n",
            "Epoch 163/180\n",
            "3/3 [==============================] - 0s 23ms/step - loss: 0.2078 - accuracy: 0.6506 - val_loss: 0.3087 - val_accuracy: 0.5000\n",
            "Epoch 164/180\n",
            "3/3 [==============================] - 0s 22ms/step - loss: 0.2073 - accuracy: 0.6506 - val_loss: 0.3080 - val_accuracy: 0.5000\n",
            "Epoch 165/180\n",
            "3/3 [==============================] - 0s 29ms/step - loss: 0.2068 - accuracy: 0.6627 - val_loss: 0.3076 - val_accuracy: 0.5000\n",
            "Epoch 166/180\n",
            "3/3 [==============================] - 0s 34ms/step - loss: 0.2063 - accuracy: 0.6627 - val_loss: 0.3075 - val_accuracy: 0.5000\n",
            "Epoch 167/180\n",
            "3/3 [==============================] - 0s 31ms/step - loss: 0.2057 - accuracy: 0.6627 - val_loss: 0.3073 - val_accuracy: 0.5000\n",
            "Epoch 168/180\n",
            "3/3 [==============================] - 0s 33ms/step - loss: 0.2052 - accuracy: 0.6627 - val_loss: 0.3070 - val_accuracy: 0.5000\n",
            "Epoch 169/180\n",
            "3/3 [==============================] - 0s 31ms/step - loss: 0.2048 - accuracy: 0.6627 - val_loss: 0.3067 - val_accuracy: 0.5000\n",
            "Epoch 170/180\n",
            "3/3 [==============================] - 0s 26ms/step - loss: 0.2044 - accuracy: 0.6747 - val_loss: 0.3066 - val_accuracy: 0.5000\n",
            "Epoch 171/180\n",
            "3/3 [==============================] - 0s 23ms/step - loss: 0.2039 - accuracy: 0.6747 - val_loss: 0.3065 - val_accuracy: 0.5000\n",
            "Epoch 172/180\n",
            "3/3 [==============================] - 0s 25ms/step - loss: 0.2036 - accuracy: 0.6747 - val_loss: 0.3065 - val_accuracy: 0.5000\n",
            "Epoch 173/180\n",
            "3/3 [==============================] - 0s 34ms/step - loss: 0.2031 - accuracy: 0.6747 - val_loss: 0.3065 - val_accuracy: 0.5000\n",
            "Epoch 174/180\n",
            "3/3 [==============================] - 0s 27ms/step - loss: 0.2027 - accuracy: 0.6747 - val_loss: 0.3063 - val_accuracy: 0.5000\n",
            "Epoch 175/180\n",
            "3/3 [==============================] - 0s 24ms/step - loss: 0.2023 - accuracy: 0.6747 - val_loss: 0.3061 - val_accuracy: 0.5000\n",
            "Epoch 176/180\n",
            "3/3 [==============================] - 0s 22ms/step - loss: 0.2020 - accuracy: 0.6747 - val_loss: 0.3057 - val_accuracy: 0.5000\n",
            "Epoch 177/180\n",
            "3/3 [==============================] - 0s 23ms/step - loss: 0.2016 - accuracy: 0.6747 - val_loss: 0.3050 - val_accuracy: 0.5000\n",
            "Epoch 178/180\n",
            "3/3 [==============================] - 0s 23ms/step - loss: 0.2012 - accuracy: 0.6747 - val_loss: 0.3040 - val_accuracy: 0.5000\n",
            "Epoch 179/180\n",
            "3/3 [==============================] - 0s 32ms/step - loss: 0.2008 - accuracy: 0.6747 - val_loss: 0.3032 - val_accuracy: 0.5000\n",
            "Epoch 180/180\n",
            "3/3 [==============================] - 0s 22ms/step - loss: 0.2004 - accuracy: 0.6747 - val_loss: 0.3025 - val_accuracy: 0.5000\n"
          ]
        }
      ],
      "source": [
        "results=mdl.fit(x_train,y_train,epochs=180,validation_data=(x_val , y_val),callbacks=early_stopping)"
      ]
    },
    {
      "cell_type": "code",
      "execution_count": 51,
      "metadata": {
        "id": "wRcjaRjaRCTJ",
        "colab": {
          "base_uri": "https://localhost:8080/"
        },
        "outputId": "b75f2c98-2718-4d5d-9f9b-01390deb2e22"
      },
      "outputs": [
        {
          "output_type": "stream",
          "name": "stdout",
          "text": [
            "1/1 [==============================] - 0s 78ms/step\n"
          ]
        }
      ],
      "source": [
        "y_test_prd=mdl.predict(x_test)"
      ]
    },
    {
      "cell_type": "code",
      "execution_count": 52,
      "metadata": {
        "id": "bwrjT54mORgM"
      },
      "outputs": [],
      "source": [
        "train_loss=results.history['loss']\n",
        "val_loss=results.history['val_loss']"
      ]
    },
    {
      "cell_type": "code",
      "execution_count": 53,
      "metadata": {
        "colab": {
          "base_uri": "https://localhost:8080/",
          "height": 447
        },
        "id": "m1OwI6oaOoCV",
        "outputId": "e2b0b27e-d27a-4303-a7a0-aadc75136a2c"
      },
      "outputs": [
        {
          "output_type": "execute_result",
          "data": {
            "text/plain": [
              "[<matplotlib.lines.Line2D at 0x7f1ede5bc8e0>]"
            ]
          },
          "metadata": {},
          "execution_count": 53
        },
        {
          "output_type": "display_data",
          "data": {
            "text/plain": [
              "<Figure size 640x480 with 1 Axes>"
            ],
            "image/png": "[encoded data removed]"
          },
          "metadata": {}
        }
      ],
      "source": [
        "plt.plot(train_loss)\n",
        "plt.plot(val_loss)"
      ]
    },
    {
      "cell_type": "code",
      "source": [
        "from sklearn.metrics import mean_squared_error as mse \n"
      ],
      "metadata": {
        "id": "3aHB_Msm7thE"
      },
      "execution_count": 54,
      "outputs": []
    },
    {
      "cell_type": "code",
      "execution_count": 55,
      "metadata": {
        "colab": {
          "base_uri": "https://localhost:8080/"
        },
        "id": "sUOGfVVWSVRr",
        "outputId": "ce5bd6f8-3804-4d87-fc0a-9827db4cacbe"
      },
      "outputs": [
        {
          "output_type": "stream",
          "name": "stdout",
          "text": [
            "0.09701244743895251\n"
          ]
        }
      ],
      "source": [
        "print(mse(y_test , y_test_prd))"
      ]
    },
    {
      "cell_type": "code",
      "execution_count": 56,
      "metadata": {
        "colab": {
          "base_uri": "https://localhost:8080/",
          "height": 447
        },
        "id": "buNuyDlQS3No",
        "outputId": "24a31817-82e6-4947-88eb-0010f8375f92"
      },
      "outputs": [
        {
          "output_type": "execute_result",
          "data": {
            "text/plain": [
              "[<matplotlib.lines.Line2D at 0x7f1ede455e10>]"
            ]
          },
          "metadata": {},
          "execution_count": 56
        },
        {
          "output_type": "display_data",
          "data": {
            "text/plain": [
              "<Figure size 640x480 with 1 Axes>"
            ],
            "image/png": "[encoded data removed]"
          },
          "metadata": {}
        }
      ],
      "source": [
        "plt.plot(y_test , y_test_prd , 'o')"
      ]
    },
    {
      "cell_type": "code",
      "source": [],
      "metadata": {
        "id": "bHUH1u9s-swW"
      },
      "execution_count": 56,
      "outputs": []
    }
  ],
  "metadata": {
    "colab": {
      "provenance": []
    },
    "kernelspec": {
      "display_name": "Python 3",
      "name": "python3"
    },
    "language_info": {
      "name": "python"
    }
  },
  "nbformat": 4,
  "nbformat_minor": 0
}